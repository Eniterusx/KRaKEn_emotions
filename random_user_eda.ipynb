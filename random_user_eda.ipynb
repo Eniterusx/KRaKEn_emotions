{
 "cells": [
  {
   "attachments": {},
   "cell_type": "markdown",
   "metadata": {},
   "source": [
    "# EDA for a randomly selected user"
   ]
  },
  {
   "attachments": {},
   "cell_type": "markdown",
   "metadata": {},
   "source": [
    "## Load packages"
   ]
  },
  {
   "cell_type": "code",
   "execution_count": null,
   "metadata": {},
   "outputs": [],
   "source": [
    "import pandas as pd\n",
    "import numpy as np\n",
    "import matplotlib.pyplot as plt\n",
    "import seaborn as sns\n",
    "import sklearn.metrics as metrics"
   ]
  },
  {
   "attachments": {},
   "cell_type": "markdown",
   "metadata": {},
   "source": [
    "## Load random user data"
   ]
  },
  {
   "cell_type": "code",
   "execution_count": null,
   "metadata": {},
   "outputs": [],
   "source": [
    "user_number = 5\n",
    "path = f\"data/S{user_number:02d}_data.parquet\" # input path to a parquet\n",
    "\n",
    "df = pd.read_parquet(path)"
   ]
  },
  {
   "cell_type": "code",
   "execution_count": null,
   "metadata": {},
   "outputs": [],
   "source": [
    "df.columns"
   ]
  },
  {
   "cell_type": "code",
   "execution_count": null,
   "metadata": {},
   "outputs": [],
   "source": [
    "df.head()"
   ]
  },
  {
   "cell_type": "markdown",
   "metadata": {},
   "source": [
    "## Pupil diameter data\n",
    "\n",
    "---"
   ]
  },
  {
   "cell_type": "code",
   "execution_count": null,
   "metadata": {},
   "outputs": [],
   "source": [
    "pupil_cols = [col for col in df.columns if col.startswith(\"pupil_diameter\")]\n",
    "cols_to_keep = [\"pupil_timestamp\", \"eye_id\"] + pupil_cols\n",
    "df_pupil = df[cols_to_keep]"
   ]
  },
  {
   "cell_type": "code",
   "execution_count": null,
   "metadata": {},
   "outputs": [],
   "source": [
    "df_pupil.head()"
   ]
  },
  {
   "cell_type": "code",
   "execution_count": null,
   "metadata": {},
   "outputs": [],
   "source": [
    "df[pupil_cols].isna().sum()"
   ]
  },
  {
   "cell_type": "markdown",
   "metadata": {},
   "source": [
    "Considering how few NaN values there are in the pupil diameter data, we can simply drop them."
   ]
  },
  {
   "cell_type": "code",
   "execution_count": null,
   "metadata": {},
   "outputs": [],
   "source": [
    "df_pupil = df_pupil.dropna()\n",
    "df_pupil = df_pupil.reset_index(drop=True)\n",
    "df_pupil.head(n=10)"
   ]
  },
  {
   "cell_type": "code",
   "execution_count": null,
   "metadata": {},
   "outputs": [],
   "source": [
    "df.shape, df_pupil.shape"
   ]
  },
  {
   "cell_type": "code",
   "execution_count": null,
   "metadata": {},
   "outputs": [],
   "source": [
    "fig, axs = plt.subplots(2, 1, figsize=(15, 10), sharex=True)\n",
    "\n",
    "eye0_data = df_pupil[df_pupil[\"eye_id\"] == 0]\n",
    "sns.lineplot(data=eye0_data, x=\"pupil_timestamp\", y=\"pupil_diameter_mean\", color=\"blue\", alpha=0.7, ax=axs[0])\n",
    "axs[0].set_title(\"Pupil Diameter Mean Over Time - Eye ID 0\")\n",
    "axs[0].set_ylabel(\"Pupil Diameter Mean\")\n",
    "\n",
    "eye1_data = df_pupil[df_pupil[\"eye_id\"] == 1]\n",
    "sns.lineplot(data=eye1_data, x=\"pupil_timestamp\", y=\"pupil_diameter_mean\", color=\"red\", alpha=0.7, ax=axs[1])\n",
    "axs[1].set_title(\"Pupil Diameter Mean Over Time - Eye ID 1\")\n",
    "axs[1].set_xlabel(\"Timestamp\")\n",
    "axs[1].set_ylabel(\"Pupil Diameter Mean\")\n",
    "\n",
    "plt.tight_layout()\n",
    "plt.show()"
   ]
  },
  {
   "cell_type": "code",
   "execution_count": null,
   "metadata": {},
   "outputs": [],
   "source": [
    "eye1 = df_pupil[\"eye_id\"] == 0\n",
    "eye2 = df_pupil[\"eye_id\"] == 1\n",
    "df_pupil.loc[eye1][\"pupil_diameter_mean\"].shape, df_pupil.loc[eye2][\"pupil_diameter_mean\"].shape"
   ]
  },
  {
   "cell_type": "markdown",
   "metadata": {},
   "source": [
    "There is a very notable difference in the number of samples between the two conditions. We will try to fix this unbalance by rounding the timestep and selecting the data for the pupils from which the both eyes have a value at the same time."
   ]
  },
  {
   "cell_type": "code",
   "execution_count": null,
   "metadata": {},
   "outputs": [],
   "source": [
    "df_pupil_2 = df_pupil.copy()"
   ]
  },
  {
   "cell_type": "code",
   "execution_count": null,
   "metadata": {
    "vscode": {
     "languageId": "ruby"
    }
   },
   "outputs": [],
   "source": [
    "df_pupil_2[\"pupil_timestamp\"] = df_pupil_2[\"pupil_timestamp\"].dt.round(\"10ms\")\n",
    "df_pupil_2 = df_pupil_2.drop_duplicates(subset=[\"pupil_timestamp\", \"eye_id\"])"
   ]
  },
  {
   "cell_type": "code",
   "execution_count": null,
   "metadata": {
    "vscode": {
     "languageId": "ruby"
    }
   },
   "outputs": [],
   "source": [
    "counts = df_pupil_2.groupby(\"pupil_timestamp\")[\"eye_id\"].nunique()\n",
    "valid_timestamps = counts[counts == 2].index\n",
    "df_pupil = df_pupil_2[df_pupil_2[\"pupil_timestamp\"].isin(valid_timestamps)]"
   ]
  },
  {
   "cell_type": "code",
   "execution_count": null,
   "metadata": {
    "vscode": {
     "languageId": "ruby"
    }
   },
   "outputs": [],
   "source": [
    "eye1 = df_pupil[\"eye_id\"] == 0\n",
    "eye2 = df_pupil[\"eye_id\"] == 1\n",
    "df_pupil.loc[eye1][\"pupil_diameter_mean\"].shape, df_pupil.loc[eye2][\"pupil_diameter_mean\"].shape"
   ]
  },
  {
   "cell_type": "code",
   "execution_count": null,
   "metadata": {},
   "outputs": [],
   "source": [
    "metrics.root_mean_squared_error(\n",
    "    df_pupil.loc[eye1][\"pupil_diameter_mean\"],\n",
    "    df_pupil.loc[eye2][\"pupil_diameter_mean\"]\n",
    ")"
   ]
  },
  {
   "cell_type": "markdown",
   "metadata": {},
   "source": [
    "The RMSE of the pupil diameter is very low, so we can assume that the data is precise."
   ]
  },
  {
   "cell_type": "code",
   "execution_count": null,
   "metadata": {
    "vscode": {
     "languageId": "ruby"
    }
   },
   "outputs": [],
   "source": [
    "balanced_df = pd.concat([df_pupil.loc[eye1], df_pupil.loc[eye2]], axis=0, ignore_index=True).sort_values(\n",
    "    by=[\"pupil_timestamp\"], ignore_index=True)"
   ]
  },
  {
   "cell_type": "code",
   "execution_count": null,
   "metadata": {},
   "outputs": [],
   "source": [
    "balanced_df.describe()"
   ]
  },
  {
   "cell_type": "code",
   "execution_count": null,
   "metadata": {},
   "outputs": [],
   "source": [
    "fig, axs = plt.subplots(2, 2, figsize=(12,12))\n",
    "plt.suptitle(\"Exploratory Plots for Balanced Pupil Data\", fontsize=18)\n",
    "\n",
    "# 1. Histogram: pupil_diameter_mean distribution by eye_id\n",
    "sns.histplot(\n",
    "    data=balanced_df,\n",
    "    x=\"pupil_diameter_mean\",\n",
    "    hue=\"eye_id\",\n",
    "    kde=True,\n",
    "    ax=axs[0, 0],\n",
    "    bins=50,\n",
    "    element=\"step\"\n",
    ")\n",
    "axs[0, 0].set_title(\"Distribution of Pupil Diameter Mean\")\n",
    "axs[0, 0].set_xlabel(\"Pupil Diameter Mean\")\n",
    "\n",
    "# 2. Boxplot: pupil_diameter_mean by eye_id\n",
    "sns.boxplot(\n",
    "    data=balanced_df,\n",
    "    x=\"eye_id\",\n",
    "    y=\"pupil_diameter_mean\",\n",
    "    ax=axs[0, 1]\n",
    ")\n",
    "axs[0, 1].set_title(\"Pupil Diameter Mean by Eye\")\n",
    "axs[0, 1].set_xlabel(\"Eye ID\")\n",
    "axs[0, 1].set_ylabel(\"Pupil Diameter Mean\")\n",
    "\n",
    "# 3. Scatterplot: mean vs variance, colored by eye_id\n",
    "sns.scatterplot(\n",
    "    data=balanced_df.sample(5000, random_state=0),  # sample for speed\n",
    "    x=\"pupil_diameter_mean\",\n",
    "    y=\"pupil_diameter_variance\",\n",
    "    hue=\"eye_id\",\n",
    "    alpha=0.5,\n",
    "    ax=axs[1, 0]\n",
    ")\n",
    "axs[1,0].set_title(\"Mean vs Variance of Pupil Diameter\")\n",
    "axs[1,0].set_xlabel(\"Pupil Diameter Mean\")\n",
    "axs[1,0].set_ylabel(\"Pupil Diameter Variance\")\n",
    "\n",
    "# 4. Correlation heatmap\n",
    "corr = balanced_df[\n",
    "    [\"pupil_diameter_mean\", \"pupil_diameter_variance\", \"pupil_diameter_skewness\", \"pupil_diameter_kurtosis\"]\n",
    "].corr()\n",
    "sns.heatmap(\n",
    "    corr,\n",
    "    annot=True,\n",
    "    cmap=\"coolwarm\",\n",
    "    ax=axs[1,1]\n",
    ")\n",
    "axs[1,1].set_title(\"Correlation Heatmap\")\n",
    "\n",
    "plt.tight_layout(rect=[0, 0, 1, 0.97])\n",
    "plt.show()"
   ]
  },
  {
   "cell_type": "code",
   "execution_count": null,
   "metadata": {},
   "outputs": [],
   "source": [
    "sns.pairplot(\n",
    "    balanced_df.sample(2000, random_state=1),\n",
    "    vars=[\n",
    "        \"pupil_diameter_mean\",\n",
    "        \"pupil_diameter_variance\",\n",
    "        \"pupil_diameter_skewness\",\n",
    "        \"pupil_diameter_kurtosis\"\n",
    "    ],\n",
    "    hue=\"eye_id\",\n",
    "    corner=True,\n",
    "    plot_kws={\"alpha\": 0.5, \"s\": 20}\n",
    ")"
   ]
  },
  {
   "cell_type": "markdown",
   "metadata": {},
   "source": [
    "Based on the correlation heatmap, we can see that using both kurtosis and skewness is redundant. Hence we will only use the kurtosis of the pupil diameter data, since skewness is much more correlated to variance than kurtosis."
   ]
  },
  {
   "cell_type": "code",
   "execution_count": null,
   "metadata": {},
   "outputs": [],
   "source": [
    "df_cleaned_1= balanced_df.copy()\n",
    "df_cleaned_1 = df_cleaned_1.drop(columns=[\"pupil_diameter_skewness\"])\n",
    "df_cleaned_1.head()"
   ]
  },
  {
   "cell_type": "code",
   "execution_count": null,
   "metadata": {},
   "outputs": [],
   "source": [
    "eye1 = df_cleaned_1[\"eye_id\"] == 0\n",
    "eye2 = df_cleaned_1[\"eye_id\"] == 1"
   ]
  },
  {
   "cell_type": "code",
   "execution_count": null,
   "metadata": {},
   "outputs": [],
   "source": [
    "diameter_variance_error = metrics.root_mean_squared_error(\n",
    "    df_cleaned_1.loc[eye1][\"pupil_diameter_variance\"],\n",
    "    df_cleaned_1.loc[eye2][\"pupil_diameter_variance\"]\n",
    ")\n",
    "diameter_kurtosis_error = metrics.root_mean_squared_error(\n",
    "    df_cleaned_1.loc[eye1][\"pupil_diameter_kurtosis\"],\n",
    "    df_cleaned_1.loc[eye2][\"pupil_diameter_kurtosis\"]\n",
    ")\n",
    "diameter_mean_error = metrics.root_mean_squared_error(\n",
    "    df_cleaned_1.loc[eye1][\"pupil_diameter_mean\"],\n",
    "    df_cleaned_1.loc[eye2][\"pupil_diameter_mean\"]\n",
    ")\n",
    "diameter_variance_error, diameter_kurtosis_error, diameter_mean_error"
   ]
  },
  {
   "cell_type": "markdown",
   "metadata": {},
   "source": [
    "Since the RMSE between the pupils is very low, we can use the mean of the two pupils as a single value for the pupil diameter to further reduce the number of redundant features."
   ]
  },
  {
   "cell_type": "code",
   "execution_count": null,
   "metadata": {
    "vscode": {
     "languageId": "javascript"
    }
   },
   "outputs": [],
   "source": [
    "pivoted = df_cleaned_1.pivot(index=\"pupil_timestamp\", columns=\"eye_id\", values=[\"pupil_diameter_variance\", \"pupil_diameter_kurtosis\", \"pupil_diameter_mean\"])\n",
    "\n",
    "pupils_diameter_mean = pivoted[\"pupil_diameter_mean\"].mean(axis=1)\n",
    "\n",
    "df_pupils_combined = pd.DataFrame({\n",
    "    \"pupil_timestamp\": pivoted.index,\n",
    "    \"pupils_diameter_mean\": pupils_diameter_mean,\n",
    "    \"pupil_diameter_variance_0\": pivoted[\"pupil_diameter_variance\"][0],\n",
    "    \"pupil_diameter_kurtosis_0\": pivoted[\"pupil_diameter_kurtosis\"][0],\n",
    "    \"pupil_diameter_variance_1\": pivoted[\"pupil_diameter_variance\"][1],\n",
    "    \"pupil_diameter_kurtosis_1\": pivoted[\"pupil_diameter_kurtosis\"][1],\n",
    "}).reset_index(drop=True)\n",
    "\n",
    "df_pupils_combined.head()"
   ]
  },
  {
   "cell_type": "code",
   "execution_count": null,
   "metadata": {
    "vscode": {
     "languageId": "javascript"
    }
   },
   "outputs": [],
   "source": [
    "df_pupils_combined.shape"
   ]
  },
  {
   "cell_type": "code",
   "execution_count": null,
   "metadata": {
    "vscode": {
     "languageId": "javascript"
    }
   },
   "outputs": [],
   "source": [
    "corr = df_pupils_combined[\n",
    "    [\"pupils_diameter_mean\", \"pupil_diameter_variance_0\",\"pupil_diameter_variance_1\", \"pupil_diameter_kurtosis_0\", \"pupil_diameter_kurtosis_1\"]\n",
    "].corr()\n",
    "\n",
    "sns.heatmap(\n",
    "    corr,\n",
    "    annot=True,\n",
    "    cmap=\"coolwarm\",\n",
    ")"
   ]
  },
  {
   "cell_type": "markdown",
   "metadata": {},
   "source": [
    "From this correlation heatmap we can see that we don't need two values for kurtosis and variance for each pupil, since they have correlation = 1.0. We can drop one of them."
   ]
  },
  {
   "cell_type": "code",
   "execution_count": null,
   "metadata": {
    "vscode": {
     "languageId": "javascript"
    }
   },
   "outputs": [],
   "source": [
    "df_fin = df_pupils_combined.copy()\n",
    "df_fin = df_fin.drop(columns=[\"pupil_diameter_variance_1\", \"pupil_diameter_kurtosis_1\"])\n",
    "df_fin.head()"
   ]
  },
  {
   "cell_type": "code",
   "execution_count": null,
   "metadata": {
    "vscode": {
     "languageId": "javascript"
    }
   },
   "outputs": [],
   "source": [
    "corr_fin = df_fin[\n",
    "    [\"pupils_diameter_mean\", \"pupil_diameter_variance_0\", \"pupil_diameter_kurtosis_0\"]\n",
    "].corr()\n",
    "\n",
    "sns.heatmap(\n",
    "    corr_fin,\n",
    "    annot=True,\n",
    "    cmap=\"coolwarm\",\n",
    ")"
   ]
  },
  {
   "cell_type": "code",
   "execution_count": null,
   "metadata": {},
   "outputs": [],
   "source": [
    "import itertools\n",
    "\n",
    "cols = [\"pupils_diameter_mean\", \"pupil_diameter_variance_0\", \"pupil_diameter_kurtosis_0\"]\n",
    "pairs = list(itertools.combinations(cols, 2))\n",
    "\n",
    "fig, axs = plt.subplots(1, len(pairs), figsize=(6 * len(pairs), 5))\n",
    "\n",
    "for i, (x, y) in enumerate(pairs):\n",
    "    sns.scatterplot(data=df_fin, x=x, y=y, alpha=0.5, ax=axs[i], \n",
    "                   color='hotpink', marker='x', s=50)\n",
    "    axs[i].set_title(f\"{x} vs {y}\")\n",
    "\n",
    "plt.tight_layout()\n",
    "plt.show()"
   ]
  },
  {
   "cell_type": "markdown",
   "metadata": {},
   "source": [
    "---"
   ]
  },
  {
   "attachments": {},
   "cell_type": "markdown",
   "metadata": {},
   "source": [
    "## Drop rows where valence or arousal is nan"
   ]
  },
  {
   "cell_type": "code",
   "execution_count": null,
   "metadata": {},
   "outputs": [],
   "source": [
    "# Drop rows where valence or arousal or trigger are NaN\n",
    "\n",
    "df = df.dropna(subset=['valence_rating', 'arousal_rating', 'trigger'])"
   ]
  },
  {
   "cell_type": "code",
   "execution_count": null,
   "metadata": {},
   "outputs": [],
   "source": [
    "# 1) make sure ratings are numeric\n",
    "df['valence_rating']  = pd.to_numeric(df['valence_rating'],  errors='coerce')\n",
    "df['arousal_rating']  = pd.to_numeric(df['arousal_rating'], errors='coerce')\n",
    "\n",
    "# 2) drop any rows that became NaN after coercion\n",
    "df = df.dropna(subset=['valence_rating', 'arousal_rating', 'trigger'])"
   ]
  },
  {
   "cell_type": "code",
   "execution_count": null,
   "metadata": {},
   "outputs": [],
   "source": [
    "# valence_per_trigger = df.groupby('trigger').mean()[\"valence_rating\"].to_frame().reset_index()\n",
    "\n",
    "# arousal_per_trigger = df.groupby('trigger').mean()[\"arousal_rating\"].to_frame().reset_index()"
   ]
  },
  {
   "cell_type": "markdown",
   "metadata": {},
   "source": [
    "## Data filtering\n",
    "### Filter data according to recommended criteria"
   ]
  },
  {
   "cell_type": "code",
   "execution_count": null,
   "metadata": {},
   "outputs": [],
   "source": [
    "original_len = len(df)\n",
    "\n",
    "keep_mask = pd.Series(True, index=df.index)\n",
    "\n",
    "# 1) For pupil diameter: Remove blinks (no pupil size data)\n",
    "keep_mask &= df[\"diameter\"].notna()\n",
    "\n",
    "keep_mask.sum() / len(keep_mask)"
   ]
  },
  {
   "cell_type": "code",
   "execution_count": null,
   "metadata": {},
   "outputs": [],
   "source": [
    "# 2) For fixations: Filter out eye positions outside stimulus/field of view\n",
    "valid_positions = (\n",
    "    (df[\"norm_pos_x_fixation\"] >= -2)\n",
    "    & (df[\"norm_pos_x_fixation\"] <= 2)\n",
    "    & (df[\"norm_pos_y_fixation\"] >= -2)\n",
    "    & (df[\"norm_pos_y_fixation\"] <= 2)\n",
    ")\n",
    "keep_mask &= (\n",
    "    valid_positions | df[\"norm_pos_x_fixation\"].isna()\n",
    ")\n",
    "\n",
    "keep_mask.sum() / len(keep_mask)"
   ]
  },
  {
   "cell_type": "code",
   "execution_count": null,
   "metadata": {},
   "outputs": [],
   "source": [
    "df[\"HR\"].min(), df[\"HR\"].max(), df[\"HR\"].isna().sum()"
   ]
  },
  {
   "cell_type": "code",
   "execution_count": null,
   "metadata": {},
   "outputs": [],
   "source": [
    "# 3) For HR: Filter out abnormal values\n",
    "valid_hr = (df[\"HR\"] <= 150) & (df[\"HR\"] >= 50) | df[\"HR\"].isna()\n",
    "keep_mask &= valid_hr\n",
    "\n",
    "keep_mask.sum() / len(keep_mask)"
   ]
  },
  {
   "cell_type": "code",
   "execution_count": null,
   "metadata": {},
   "outputs": [],
   "source": [
    "# Calculate HR jumps\n",
    "hr_jumps = df[\"HR\"].diff().abs()\n",
    "keep_mask &= (hr_jumps <= 20) | hr_jumps.isna()\n",
    "\n",
    "keep_mask.sum() / len(keep_mask)"
   ]
  },
  {
   "cell_type": "code",
   "execution_count": null,
   "metadata": {},
   "outputs": [],
   "source": [
    "# 4) For EDA: Remove zero signal\n",
    "keep_mask &= (df[\"EDA\"] != 0) | df[\"EDA\"].isna()\n",
    "\n",
    "keep_mask.sum() / len(keep_mask)"
   ]
  },
  {
   "cell_type": "code",
   "execution_count": null,
   "metadata": {},
   "outputs": [],
   "source": [
    "# Apply all filters\n",
    "df_filtered = df[keep_mask]"
   ]
  },
  {
   "cell_type": "code",
   "execution_count": null,
   "metadata": {},
   "outputs": [],
   "source": [
    "print(f\"Original dataset: {original_len} rows\")\n",
    "print(f\"Filtered dataset: {len(df_filtered)} rows\")\n",
    "print(\n",
    "    f\"Removed: {original_len - len(df_filtered)} rows ({(1 - len(df_filtered) / original_len) * 100:.2f}%)\"\n",
    ")"
   ]
  },
  {
   "cell_type": "code",
   "execution_count": null,
   "metadata": {},
   "outputs": [],
   "source": [
    "df = df_filtered"
   ]
  },
  {
   "attachments": {},
   "cell_type": "markdown",
   "metadata": {},
   "source": [
    "### Valence and Arousal rating distribution"
   ]
  },
  {
   "cell_type": "code",
   "execution_count": null,
   "metadata": {},
   "outputs": [],
   "source": [
    "# now compute means per trigger on just that one column\n",
    "valence_per_trigger = df.groupby('trigger')['valence_rating'].mean().reset_index()\n",
    "arousal_per_trigger = df.groupby('trigger')['arousal_rating'].mean().reset_index()"
   ]
  },
  {
   "cell_type": "code",
   "execution_count": null,
   "metadata": {},
   "outputs": [],
   "source": [
    "fig, axs = plt.subplots(1, 2, figsize=(15, 5))\n",
    "\n",
    "sns.histplot(valence_per_trigger[\"valence_rating\"], ax=axs[0])\n",
    "axs[0].set_title(\"Valence rating distribution\")\n",
    "axs[0].set_xlabel(\"Valence rating\")\n",
    "\n",
    "sns.histplot(arousal_per_trigger[\"arousal_rating\"], ax=axs[1])\n",
    "axs[1].set_title(\"Arousal rating distribution\")\n",
    "axs[1].set_xlabel(\"Arousal rating\")\n",
    "\n",
    "plt.show()"
   ]
  },
  {
   "attachments": {},
   "cell_type": "markdown",
   "metadata": {},
   "source": [
    "### Bitalino in time"
   ]
  },
  {
   "cell_type": "code",
   "execution_count": null,
   "metadata": {},
   "outputs": [],
   "source": [
    "df_sorted = df.sort_values(by=['pupil_timestamp'])\n",
    "\n",
    "# Get row every 100 rows in pupil_timestamp\n",
    "df_sorted = df_sorted.iloc[::100, :]\n",
    "\n",
    "# Plot EDA in time\n",
    "fig, axs = plt.subplots(2, 2, figsize=(15, 10))\n",
    "plt.suptitle(\"Bitalino data in time\")\n",
    "\n",
    "sns.lineplot(data=df_sorted, x=\"pupil_timestamp\", y=\"EDA\", ax=axs[0, 0])\n",
    "axs[0, 0].set_title(\"EDA in time\")\n",
    "axs[0, 0].set_xlabel(\"Time (s)\")\n",
    "axs[0, 0].set_ylabel(\"EDA\")\n",
    "\n",
    "sns.lineplot(data=df_sorted, x=\"pupil_timestamp\", y=\"HR\", ax=axs[0, 1])\n",
    "axs[0, 1].set_title(\"HR in time\")\n",
    "axs[0, 1].set_xlabel(\"Time (s)\")\n",
    "axs[0, 1].set_ylabel(\"HR\")\n",
    "\n",
    "sns.lineplot(data=df_sorted, x=\"pupil_timestamp\", y=\"EKG\", ax=axs[1, 0])\n",
    "axs[1, 0].set_title(\"EKG in time\")\n",
    "axs[1, 0].set_xlabel(\"Time (s)\")\n",
    "axs[1, 0].set_ylabel(\"EKG\")\n",
    "\n",
    "sns.lineplot(data=df_sorted, x=\"pupil_timestamp\", y=\"light\", ax=axs[1, 1])\n",
    "axs[1, 1].set_title(\"Light in time\")\n",
    "axs[1, 1].set_xlabel(\"Time (s)\")\n",
    "axs[1, 1].set_ylabel(\"Light\")\n",
    "\n",
    "\n",
    "plt.show()"
   ]
  },
  {
   "cell_type": "code",
   "execution_count": null,
   "metadata": {},
   "outputs": [],
   "source": [
    "# X, Y of pupil scatter plot\n",
    "\n",
    "fig, axs = plt.subplots(1, 2, figsize=(15, 5))\n",
    "\n",
    "df_fixated = df[df[\"norm_pos_y_fixation\"] > 0]\n",
    "sns.scatterplot(data=df_fixated[::100], x=\"norm_pos_x_fixation\", y=\"norm_pos_y_fixation\", ax=axs[0])\n",
    "axs[0].set_title(\"Pupil X, Y scatter plot\")\n",
    "axs[0].set_xlabel(\"Pupil X\")\n",
    "axs[0].set_ylabel(\"Pupil Y\")\n",
    "\n",
    "sns.scatterplot(data=df_fixated[::100], x=\"norm_pos_x_fixation\", y=\"norm_pos_y_fixation\", hue=\"trigger\", ax=axs[1])\n",
    "axs[1].set_title(\"Pupil X, Y scatter plot with trigger\")\n",
    "axs[1].set_xlabel(\"Pupil X\")\n",
    "axs[1].set_ylabel(\"Pupil Y\")    \n",
    "\n",
    "plt.show()"
   ]
  },
  {
   "cell_type": "code",
   "execution_count": null,
   "metadata": {},
   "outputs": [],
   "source": [
    "df"
   ]
  },
  {
   "cell_type": "code",
   "execution_count": null,
   "metadata": {},
   "outputs": [],
   "source": [
    "# Print correlation matrix\n",
    "\n",
    "columns_of_interest = [\"pupil_timestamp\", \"eye_id\", \"confidence\", \"norm_pos_x\", \"norm_pos_y\", \"diameter\", \"EKG\", \"light\", \"EDA\", \"HR\", \"trigger\", \"valence_rating\", \"arousal_rating\"]\n",
    "corr = df[columns_of_interest].corr(numeric_only=True)\n",
    "\n",
    "fig, ax = plt.subplots(figsize=(15, 10))\n",
    "sns.heatmap(corr, annot=True, ax=ax, cmap=\"coolwarm\")\n",
    "plt.show()"
   ]
  },
  {
   "cell_type": "code",
   "execution_count": null,
   "metadata": {},
   "outputs": [],
   "source": [
    "# Confidence level distribution\n",
    "\n",
    "fig, axs = plt.subplots(1, 2, figsize=(15, 5))\n",
    "\n",
    "sns.histplot(df[\"confidence\"], ax=axs[0])\n",
    "axs[0].set_title(\"Confidence level distribution\")\n",
    "axs[0].set_xlabel(\"Confidence level\")\n",
    "\n",
    "sns.histplot(df[\"confidence\"], ax=axs[1], cumulative=True)\n",
    "axs[1].set_title(\"Confidence level distribution (cumulative)\")\n",
    "axs[1].set_xlabel(\"Confidence level\")\n",
    "\n",
    "plt.show()"
   ]
  },
  {
   "cell_type": "code",
   "execution_count": null,
   "metadata": {},
   "outputs": [],
   "source": [
    "# Pupil size distribution\n",
    "\n",
    "fig, axs = plt.subplots(1, 2, figsize=(15, 5))\n",
    "\n",
    "sns.histplot(df[\"diameter\"], ax=axs[0])\n",
    "axs[0].set_title(\"Pupil size distribution\")\n",
    "axs[0].set_xlabel(\"Pupil size\")\n",
    "\n",
    "sns.histplot(df[\"diameter\"], ax=axs[1], cumulative=True)\n",
    "axs[1].set_title(\"Pupil size distribution (cumulative)\")\n",
    "axs[1].set_xlabel(\"Pupil size\")\n",
    "\n",
    "plt.show()"
   ]
  },
  {
   "attachments": {},
   "cell_type": "markdown",
   "metadata": {},
   "source": [
    "## Scatter plots of Arousal vs Bitalino data"
   ]
  },
  {
   "cell_type": "code",
   "execution_count": null,
   "metadata": {},
   "outputs": [],
   "source": [
    "# Arousal vs EDA, EKG, HR, light\n",
    "\n",
    "fig, axs = plt.subplots(4, 2, figsize=(15, 20))\n",
    "\n",
    "sns.scatterplot(data=df, x=\"EDA\", y=\"arousal_rating\", ax=axs[0, 0])\n",
    "axs[0, 0].set_title(\"EDA vs Arousal\")\n",
    "axs[0, 0].set_xlabel(\"EDA\")\n",
    "axs[0, 0].set_ylabel(\"Arousal\")\n",
    "\n",
    "sns.scatterplot(data=df, x=\"EDA\", y=\"valence_rating\", ax=axs[0, 1])\n",
    "axs[0, 1].set_title(\"EDA vs Valence\")\n",
    "axs[0, 1].set_xlabel(\"EDA\")\n",
    "axs[0, 1].set_ylabel(\"Arousal\")\n",
    "\n",
    "sns.scatterplot(data=df, x=\"EKG\", y=\"arousal_rating\", ax=axs[1, 0])\n",
    "axs[1, 0].set_title(\"EKG vs Arousal\")\n",
    "axs[1, 0].set_xlabel(\"EKG\")\n",
    "axs[1, 0].set_ylabel(\"Arousal\")\n",
    "\n",
    "sns.scatterplot(data=df, x=\"EKG\", y=\"valence_rating\", ax=axs[1, 1])\n",
    "axs[1, 1].set_title(\"EKG vs Valence\")\n",
    "axs[1, 1].set_xlabel(\"EKG\")\n",
    "axs[1, 1].set_ylabel(\"Valence\")\n",
    "\n",
    "sns.scatterplot(data=df, x=\"HR\", y=\"arousal_rating\", ax=axs[2, 0])\n",
    "axs[2, 0].set_title(\"HR vs Arousal\")\n",
    "axs[2, 0].set_xlabel(\"HR\")\n",
    "axs[2, 0].set_ylabel(\"Arousal\")\n",
    "\n",
    "sns.scatterplot(data=df, x=\"HR\", y=\"valence_rating\", ax=axs[2, 1])\n",
    "axs[2, 1].set_title(\"HR vs Valence\")\n",
    "axs[2, 1].set_xlabel(\"HR\")\n",
    "axs[2, 1].set_ylabel(\"Valence\")\n",
    "\n",
    "sns.scatterplot(data=df, x=\"light\", y=\"arousal_rating\", ax=axs[3, 0])\n",
    "axs[3, 0].set_title(\"Light vs Arousal\")\n",
    "axs[3, 0].set_xlabel(\"Light\")\n",
    "axs[3, 0].set_ylabel(\"Arousal\")\n",
    "\n",
    "sns.scatterplot(data=df, x=\"light\", y=\"valence_rating\", ax=axs[3, 1])\n",
    "axs[3, 1].set_title(\"Light vs Valence\")\n",
    "axs[3, 1].set_xlabel(\"Light\")\n",
    "axs[3, 1].set_ylabel(\"Valence\")\n",
    "\n",
    "plt.show()\n"
   ]
  },
  {
   "cell_type": "code",
   "execution_count": null,
   "metadata": {},
   "outputs": [],
   "source": [
    "df.shape"
   ]
  }
 ],
 "metadata": {
  "kernelspec": {
   "display_name": ".venv",
   "language": "python",
   "name": "python3"
  },
  "language_info": {
   "codemirror_mode": {
    "name": "ipython",
    "version": 3
   },
   "file_extension": ".py",
   "mimetype": "text/x-python",
   "name": "python",
   "nbconvert_exporter": "python",
   "pygments_lexer": "ipython3",
   "version": "3.12.2"
  },
  "orig_nbformat": 4
 },
 "nbformat": 4,
 "nbformat_minor": 2
}
